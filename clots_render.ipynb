{
 "cells": [
  {
   "cell_type": "code",
   "execution_count": 2,
   "metadata": {},
   "outputs": [],
   "source": [
    "def get_clots(file, case_id: str):\n",
    "\n",
    "    with open(file, 'r') as f:\n",
    "        possible_clots = list(map(lambda x: x.split(), f.readlines()))\n",
    "\n",
    "    clots = [clot for clot in possible_clots if clot[0] == case_id]\n",
    "\n",
    "    clots = [list(map(int, clot[1:])) for clot in clots]\n",
    "\n",
    "    return clots"
   ]
  },
  {
   "cell_type": "code",
   "execution_count": 32,
   "metadata": {},
   "outputs": [],
   "source": [
    "import numpy as np\n",
    "\n",
    "def render(y: int, raw, seg, gt, clots):\n",
    "    plt.figure(figsize=(10,10))\n",
    "    plt.imshow(raw[:,y, :], cmap=\"gray\")\n",
    "\n",
    "    binary = seg[:,y, :] > 0\n",
    "    RGB = np.zeros((binary.shape[0],binary.shape[1],4), dtype=np.uint8)\n",
    "    RGB[binary] = [0,0,255,130]\n",
    "    RGB[~binary] = [0,0,0,0]\n",
    "    plt.imshow(RGB)\n",
    "\n",
    "    binary = gt[:,y, :] > 0\n",
    "    RGB = np.zeros((binary.shape[0],binary.shape[1],4), dtype=np.uint8)\n",
    "    RGB[binary]  = [0,255,0,130]\n",
    "    RGB[~binary] = [0,0,0,0]\n",
    "    plt.imshow(RGB)\n",
    "    \n",
    "    for clot in clots:\n",
    "        if abs(clot[1] - y) < 10:\n",
    "            plt.scatter(clot[2], clot[0], c=\"r\", s=10)\n",
    "\n",
    "    plt.show()\n",
    "    "
   ]
  },
  {
   "cell_type": "code",
   "execution_count": null,
   "metadata": {},
   "outputs": [],
   "source": [
    "import nibabel as nib\n",
    "import matplotlib.pyplot as plt\n",
    "from ipywidgets import interact, widgets\n",
    "\n",
    "\n",
    "case_number = \"016\"\n",
    "case_id = f\"{case_number}.nii.gz\"\n",
    "\n",
    "clots = get_clots(\"./nnunet_cadpe_results.txt\", case_id)\n",
    "\n",
    "raw = nib.load(f\"../{case_number}_raw.nii.gz\").get_fdata()\n",
    "seg = nib.load(f\"../{case_number}_seg.nii.gz\").get_fdata()\n",
    "gt = nib.load(f\"../{case_number}_gt.nii.gz\").get_fdata()\n",
    "\n",
    "interact(\n",
    "    lambda y: render(y, raw, seg, gt, clots),\n",
    "    y=widgets.IntSlider(min=0, max=seg.shape[1] - 1, step=1, value=0),\n",
    ")\n"
   ]
  },
  {
   "cell_type": "code",
   "execution_count": null,
   "metadata": {},
   "outputs": [],
   "source": [
    "import nibabel as nib\n",
    "import matplotlib.pyplot as plt\n",
    "from ipywidgets import interact, widgets\n",
    "\n",
    "\n",
    "case_number = \"021\"\n",
    "case_id = f\"{case_number}.nii.gz\"\n",
    "\n",
    "clots = get_clots(\"./nnunet_cadpe_results.txt\", case_id)\n",
    "\n",
    "raw = nib.load(f\"../{case_number}_raw.nii.gz\").get_fdata()\n",
    "seg = nib.load(f\"../{case_number}_seg.nii.gz\").get_fdata()\n",
    "gt = nib.load(f\"../{case_number}_gt.nii.gz\").get_fdata()\n",
    "\n",
    "interact(\n",
    "    lambda y: render(y, raw, seg, gt, clots),\n",
    "    y=widgets.IntSlider(min=0, max=seg.shape[1] - 1, step=1, value=0),\n",
    ")\n",
    "\n"
   ]
  },
  {
   "cell_type": "code",
   "execution_count": null,
   "metadata": {},
   "outputs": [],
   "source": []
  }
 ],
 "metadata": {
  "interpreter": {
   "hash": "118c8fe68457d8387306adc0e37ff259965200067b645439807700a13b4f757f"
  },
  "kernelspec": {
   "display_name": "Python 3.9.1 ('cvn_env')",
   "language": "python",
   "name": "python3"
  },
  "language_info": {
   "codemirror_mode": {
    "name": "ipython",
    "version": 3
   },
   "file_extension": ".py",
   "mimetype": "text/x-python",
   "name": "python",
   "nbconvert_exporter": "python",
   "pygments_lexer": "ipython3",
   "version": "3.9.1"
  },
  "orig_nbformat": 4
 },
 "nbformat": 4,
 "nbformat_minor": 2
}
