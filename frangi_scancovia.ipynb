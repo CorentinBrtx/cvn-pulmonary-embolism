{
 "cells": [
  {
   "cell_type": "code",
   "execution_count": 7,
   "metadata": {},
   "outputs": [],
   "source": [
    "import numpy as np"
   ]
  },
  {
   "cell_type": "code",
   "execution_count": 2,
   "metadata": {},
   "outputs": [],
   "source": [
    "def correct_header(header):\n",
    "    affine = np.zeros((3, 3), dtype=\"float\")\n",
    "    affine[0:3, 0:3] = -header[\"space directions\"]\n",
    "    affine[2, 2] = -affine[2, 2]\n",
    "\n",
    "    header[\"space directions\"] = np.copy(affine)\n",
    "\n",
    "    affine = -header[\"space origin\"]\n",
    "    affine[2] = -affine[2]\n",
    "\n",
    "    header[\"space origin\"] = np.copy(affine)\n"
   ]
  },
  {
   "cell_type": "code",
   "execution_count": 15,
   "metadata": {},
   "outputs": [],
   "source": [
    "from skimage.filters import frangi\n",
    "import nrrd\n",
    "import numpy as np\n",
    "\n",
    "\n",
    "def save_frangi(filename: str, target_filename: str, sigmas=[0.5, 0.7, 0.9, 1.1, 1.3]):\n",
    "    data, header = nrrd.read(filename)\n",
    "    inverted_data = np.max(data) - data - 1024\n",
    "    \n",
    "    filtered_image = frangi(inverted_data, sigmas=sigmas)\n",
    "    filtered_image = filtered_image * 1000 / np.max(filtered_image)\n",
    "    \n",
    "    nrrd.write(target_filename, filtered_image, header)\n"
   ]
  },
  {
   "cell_type": "code",
   "execution_count": 4,
   "metadata": {},
   "outputs": [],
   "source": [
    "import nibabel as nib\n",
    "import nrrd\n",
    "import numpy as np\n",
    "\n",
    "\n",
    "def nrrd_to_nifti(filename, target_filename):\n",
    "    data, header = nrrd.read(filename)\n",
    "\n",
    "    affine = np.zeros((4, 4), dtype=\"float\")\n",
    "    affine[0:3, 0:3] = -header[\"space directions\"]\n",
    "    affine[3, 3] = 1\n",
    "    affine[2, 2] = -affine[2, 2]\n",
    "\n",
    "    affine[0:3, 3] = -header[\"space origin\"]\n",
    "    affine[2, 3] = -affine[2, 3]\n",
    "\n",
    "    img = nib.Nifti1Image(data, affine)\n",
    "\n",
    "    nib.save(img, target_filename)\n",
    "\n",
    "    return affine\n"
   ]
  },
  {
   "cell_type": "code",
   "execution_count": 5,
   "metadata": {},
   "outputs": [],
   "source": [
    "import os\n",
    "from scancovia import AiSegment\n",
    "\n",
    "\n",
    "def save_lungs_seg(filename: str, target_filename: str):\n",
    "\n",
    "    _, header = nrrd.read(filename)\n",
    "\n",
    "    nrrd_to_nifti(filename, os.path.splitext(filename)[0] + \".nii.gz\")\n",
    "    filename = filename.replace(\".nrrd\", \".nii.gz\")\n",
    "\n",
    "    ai_segment = AiSegment()\n",
    "    output = ai_segment(filename)\n",
    "\n",
    "    nrrd.write(target_filename, output[\"lungs_mask\"].transpose(1, 0, 2), header)\n",
    "\n",
    "    os.remove(filename)\n",
    "\n",
    "    return output\n"
   ]
  },
  {
   "cell_type": "code",
   "execution_count": 8,
   "metadata": {},
   "outputs": [],
   "source": [
    "import nrrd\n",
    "\n",
    "def nrrd_get_data(filename):\n",
    "    data, _ = nrrd.read(filename)\n",
    "    return data"
   ]
  },
  {
   "cell_type": "code",
   "execution_count": 9,
   "metadata": {},
   "outputs": [],
   "source": [
    "import numpy as np\n",
    "\n",
    "def get_emboly_coverage(emboly_seg_path: str, vessels_seg_path: str, threshold=None):\n",
    "\n",
    "    ground_truth = np.where(nrrd_get_data(emboly_seg_path) > 0, 1, 0)\n",
    "\n",
    "    vessels_seg = nrrd_get_data(vessels_seg_path)\n",
    "\n",
    "    if threshold is not None:\n",
    "        vessels_seg = np.where(vessels_seg > threshold, 1, 0)\n",
    "\n",
    "    return np.sum(ground_truth * vessels_seg) / np.sum(ground_truth)\n"
   ]
  },
  {
   "cell_type": "code",
   "execution_count": 14,
   "metadata": {},
   "outputs": [],
   "source": [
    "import numpy as np\n",
    "\n",
    "def get_recall(true_seg_path: str, vessels_seg_path: str, threshold=None):\n",
    "\n",
    "    ground_truth = np.where(nrrd_get_data(true_seg_path) > 0, 1, 0)\n",
    "\n",
    "    vessels_seg = nrrd_get_data(vessels_seg_path)\n",
    "\n",
    "    if threshold is not None:\n",
    "        vessels_seg = np.where(vessels_seg > threshold, 1, 0)\n",
    "    else:\n",
    "        vessels_seg = np.where(vessels_seg > 0, 1, 0)\n",
    "\n",
    "    return np.sum(ground_truth * vessels_seg) / np.sum(ground_truth)\n"
   ]
  },
  {
   "cell_type": "code",
   "execution_count": 19,
   "metadata": {},
   "outputs": [
    {
     "name": "stdout",
     "output_type": "stream",
     "text": [
      "0.22693959640032724\n",
      "0.08963314980475266\n"
     ]
    }
   ],
   "source": [
    "threshold = 1\n",
    "\n",
    "print(get_recall(\"../data/CAD_PE/rs/0005RefStd.nrrd\", \"./data/005_frangi.nrrd\", threshold=threshold))\n",
    "print(get_recall(\"./data/005_lungs.nrrd\", \"./data/005_frangi.nrrd\", threshold=threshold))"
   ]
  },
  {
   "cell_type": "code",
   "execution_count": 17,
   "metadata": {},
   "outputs": [
    {
     "data": {
      "text/plain": [
       "0.21793437974779326"
      ]
     },
     "execution_count": 17,
     "metadata": {},
     "output_type": "execute_result"
    }
   ],
   "source": [
    "get_recall(\"./data/005_lungs.nrrd\", \"./data/005_frangi.nrrd\", threshold=0.01)"
   ]
  },
  {
   "cell_type": "code",
   "execution_count": 16,
   "metadata": {},
   "outputs": [],
   "source": [
    "save_frangi(\"../data/CAD_PE/images/005.nrrd\", \"./005_frangi.nrrd\")"
   ]
  },
  {
   "cell_type": "code",
   "execution_count": 17,
   "metadata": {},
   "outputs": [],
   "source": [
    "output = save_lungs_seg(\"../data/CAD_PE/images/005.nrrd\", \"./005_lungs.seg.nrrd\")"
   ]
  },
  {
   "cell_type": "code",
   "execution_count": 7,
   "metadata": {},
   "outputs": [],
   "source": [
    "data, header = nrrd.read(\"./data/005_frangi.nrrd\")"
   ]
  },
  {
   "cell_type": "code",
   "execution_count": 60,
   "metadata": {},
   "outputs": [],
   "source": [
    "nrrd.write(\"010_lung_mask.seg.nrrd\", output[\"lungs_mask\"].transpose(1,0,2), header)"
   ]
  },
  {
   "cell_type": "code",
   "execution_count": 39,
   "metadata": {},
   "outputs": [],
   "source": [
    "img = nib.Nifti1Image(output[\"lungs_mask\"], affine)\n",
    "\n",
    "nib.save(img, \"010_lungs_mask.seg.nii\")"
   ]
  },
  {
   "cell_type": "code",
   "execution_count": 15,
   "metadata": {},
   "outputs": [],
   "source": [
    "from scancovia import AiSegment\n",
    "\n",
    "ai_segment = AiSegment() \n",
    "output = ai_segment('010.nii')"
   ]
  },
  {
   "cell_type": "code",
   "execution_count": 20,
   "metadata": {},
   "outputs": [
    {
     "data": {
      "text/plain": [
       "(512, 512, 426)"
      ]
     },
     "execution_count": 20,
     "metadata": {},
     "output_type": "execute_result"
    }
   ],
   "source": [
    "data.shape"
   ]
  },
  {
   "cell_type": "code",
   "execution_count": 30,
   "metadata": {},
   "outputs": [
    {
     "data": {
      "text/plain": [
       "2"
      ]
     },
     "execution_count": 30,
     "metadata": {},
     "output_type": "execute_result"
    }
   ],
   "source": [
    "np.max(output[\"lungs_mask\"])"
   ]
  },
  {
   "cell_type": "code",
   "execution_count": 37,
   "metadata": {},
   "outputs": [],
   "source": [
    "affine = nrrd_to_nifti(\"../data/CAD_PE/images/010.nrrd\", \"./010.nii\")"
   ]
  },
  {
   "cell_type": "code",
   "execution_count": null,
   "metadata": {},
   "outputs": [],
   "source": []
  }
 ],
 "metadata": {
  "interpreter": {
   "hash": "db95e50100ef190cd130dcdc64a1494b4d4fda75411b0edb21fc5e698e32ecb7"
  },
  "kernelspec": {
   "display_name": "Python 3.9.1 64-bit ('venv': venv)",
   "language": "python",
   "name": "python3"
  },
  "language_info": {
   "codemirror_mode": {
    "name": "ipython",
    "version": 3
   },
   "file_extension": ".py",
   "mimetype": "text/x-python",
   "name": "python",
   "nbconvert_exporter": "python",
   "pygments_lexer": "ipython3",
   "version": "3.9.0"
  },
  "orig_nbformat": 4
 },
 "nbformat": 4,
 "nbformat_minor": 2
}
