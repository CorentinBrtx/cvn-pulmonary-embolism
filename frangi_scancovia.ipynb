{
 "cells": [
  {
   "cell_type": "code",
   "execution_count": 1,
   "metadata": {},
   "outputs": [],
   "source": [
    "import numpy as np\n",
    "import nrrd\n",
    "import nibabel as nib"
   ]
  },
  {
   "cell_type": "code",
   "execution_count": 2,
   "metadata": {},
   "outputs": [],
   "source": [
    "def correct_header(header):\n",
    "    affine = np.zeros((3, 3), dtype=\"float\")\n",
    "    affine[0:3, 0:3] = -header[\"space directions\"]\n",
    "    affine[2, 2] = -affine[2, 2]\n",
    "\n",
    "    header[\"space directions\"] = np.copy(affine)\n",
    "\n",
    "    affine = -header[\"space origin\"]\n",
    "    affine[2] = -affine[2]\n",
    "\n",
    "    header[\"space origin\"] = np.copy(affine)\n"
   ]
  },
  {
   "cell_type": "code",
   "execution_count": 3,
   "metadata": {},
   "outputs": [],
   "source": [
    "from skimage.filters import frangi\n",
    "import nrrd\n",
    "import numpy as np\n",
    "\n",
    "\n",
    "def save_frangi(filename: str, target_filename: str, sigmas=[0.5, 0.7, 0.9, 1.1, 1.3]):\n",
    "    data, header = nrrd.read(filename)\n",
    "    inverted_data = np.max(data) - data - 1024\n",
    "\n",
    "    filtered_image = frangi(inverted_data, sigmas=sigmas)\n",
    "    filtered_image = filtered_image * 1000 / np.max(filtered_image)\n",
    "\n",
    "    nrrd.write(target_filename, filtered_image, header)\n"
   ]
  },
  {
   "cell_type": "code",
   "execution_count": 2,
   "metadata": {},
   "outputs": [],
   "source": [
    "import nibabel as nib\n",
    "import nrrd\n",
    "import numpy as np\n",
    "\n",
    "\n",
    "def nrrd_to_nifti(filename, target_filename):\n",
    "    data, header = nrrd.read(filename)\n",
    "\n",
    "    affine = np.zeros((4, 4), dtype=\"float\")\n",
    "    affine[0:3, 0:3] = -header[\"space directions\"]\n",
    "    affine[3, 3] = 1\n",
    "    affine[2, 2] = -affine[2, 2]\n",
    "\n",
    "    affine[0:3, 3] = -header[\"space origin\"]\n",
    "    affine[2, 3] = -affine[2, 3]\n",
    "\n",
    "    img = nib.Nifti1Image(data, affine)\n",
    "\n",
    "    nib.save(img, target_filename)\n",
    "\n",
    "    return affine\n"
   ]
  },
  {
   "cell_type": "code",
   "execution_count": 1,
   "metadata": {},
   "outputs": [
    {
     "ename": "ModuleNotFoundError",
     "evalue": "No module named 'scancovia'",
     "output_type": "error",
     "traceback": [
      "\u001b[0;31m---------------------------------------------------------------------------\u001b[0m",
      "\u001b[0;31mModuleNotFoundError\u001b[0m                       Traceback (most recent call last)",
      "\u001b[0;32m/var/folders/78/6hdr_rfd7rv9l_2gc4sts6600000gn/T/ipykernel_47072/1923686566.py\u001b[0m in \u001b[0;36m<module>\u001b[0;34m\u001b[0m\n\u001b[1;32m      1\u001b[0m \u001b[0;32mimport\u001b[0m \u001b[0mos\u001b[0m\u001b[0;34m\u001b[0m\u001b[0;34m\u001b[0m\u001b[0m\n\u001b[0;32m----> 2\u001b[0;31m \u001b[0;32mfrom\u001b[0m \u001b[0msrc\u001b[0m\u001b[0;34m.\u001b[0m\u001b[0mlibs\u001b[0m\u001b[0;34m.\u001b[0m\u001b[0mscancovia\u001b[0m\u001b[0;34m.\u001b[0m\u001b[0mscancovia\u001b[0m \u001b[0;32mimport\u001b[0m \u001b[0mAiSegment\u001b[0m\u001b[0;34m\u001b[0m\u001b[0;34m\u001b[0m\u001b[0m\n\u001b[0m\u001b[1;32m      3\u001b[0m \u001b[0;34m\u001b[0m\u001b[0m\n\u001b[1;32m      4\u001b[0m \u001b[0;34m\u001b[0m\u001b[0m\n\u001b[1;32m      5\u001b[0m \u001b[0;32mdef\u001b[0m \u001b[0msave_lungs_seg\u001b[0m\u001b[0;34m(\u001b[0m\u001b[0mfilename\u001b[0m\u001b[0;34m:\u001b[0m \u001b[0mstr\u001b[0m\u001b[0;34m,\u001b[0m \u001b[0mtarget_filename\u001b[0m\u001b[0;34m:\u001b[0m \u001b[0mstr\u001b[0m\u001b[0;34m)\u001b[0m\u001b[0;34m:\u001b[0m\u001b[0;34m\u001b[0m\u001b[0;34m\u001b[0m\u001b[0m\n",
      "\u001b[0;32m~/Documents/3A_CS/Projet CVN/cvn-pulmonary-embolism/src/libs/scancovia/scancovia/__init__.py\u001b[0m in \u001b[0;36m<module>\u001b[0;34m\u001b[0m\n\u001b[0;32m----> 1\u001b[0;31m \u001b[0;32mfrom\u001b[0m \u001b[0;34m.\u001b[0m\u001b[0mscan_cov_model\u001b[0m \u001b[0;32mimport\u001b[0m \u001b[0mScanCovModel\u001b[0m\u001b[0;34m\u001b[0m\u001b[0;34m\u001b[0m\u001b[0m\n\u001b[0m\u001b[1;32m      2\u001b[0m \u001b[0;32mfrom\u001b[0m \u001b[0;34m.\u001b[0m\u001b[0mbenchmarker\u001b[0m \u001b[0;32mimport\u001b[0m \u001b[0mBenchmarker\u001b[0m\u001b[0;34m\u001b[0m\u001b[0;34m\u001b[0m\u001b[0m\n\u001b[1;32m      3\u001b[0m \u001b[0;32mfrom\u001b[0m \u001b[0;34m.\u001b[0m\u001b[0mai_severity\u001b[0m\u001b[0;34m.\u001b[0m\u001b[0mai_severity\u001b[0m \u001b[0;32mimport\u001b[0m \u001b[0mAiSeverity\u001b[0m\u001b[0;34m\u001b[0m\u001b[0;34m\u001b[0m\u001b[0m\n\u001b[1;32m      4\u001b[0m \u001b[0;32mfrom\u001b[0m \u001b[0;34m.\u001b[0m\u001b[0mai_segment\u001b[0m\u001b[0;34m.\u001b[0m\u001b[0mai_segment\u001b[0m \u001b[0;32mimport\u001b[0m \u001b[0mAiSegment\u001b[0m\u001b[0;34m\u001b[0m\u001b[0;34m\u001b[0m\u001b[0m\n",
      "\u001b[0;32m~/Documents/3A_CS/Projet CVN/cvn-pulmonary-embolism/src/libs/scancovia/scancovia/scan_cov_model.py\u001b[0m in \u001b[0;36m<module>\u001b[0;34m\u001b[0m\n\u001b[1;32m     19\u001b[0m \u001b[0;32mfrom\u001b[0m \u001b[0mtqdm\u001b[0m \u001b[0;32mimport\u001b[0m \u001b[0mtqdm\u001b[0m\u001b[0;34m\u001b[0m\u001b[0;34m\u001b[0m\u001b[0m\n\u001b[1;32m     20\u001b[0m \u001b[0;34m\u001b[0m\u001b[0m\n\u001b[0;32m---> 21\u001b[0;31m \u001b[0;32mfrom\u001b[0m \u001b[0mscancovia\u001b[0m\u001b[0;34m.\u001b[0m\u001b[0mai_severity\u001b[0m\u001b[0;34m.\u001b[0m\u001b[0mai_severity\u001b[0m \u001b[0;32mimport\u001b[0m \u001b[0mAiSeverity\u001b[0m\u001b[0;34m\u001b[0m\u001b[0;34m\u001b[0m\u001b[0m\n\u001b[0m\u001b[1;32m     22\u001b[0m \u001b[0;32mfrom\u001b[0m \u001b[0mscancovia\u001b[0m\u001b[0;34m.\u001b[0m\u001b[0mai_segment\u001b[0m\u001b[0;34m.\u001b[0m\u001b[0mai_segment\u001b[0m \u001b[0;32mimport\u001b[0m \u001b[0mAiSegment\u001b[0m\u001b[0;34m\u001b[0m\u001b[0;34m\u001b[0m\u001b[0m\n\u001b[1;32m     23\u001b[0m \u001b[0;34m\u001b[0m\u001b[0m\n",
      "\u001b[0;31mModuleNotFoundError\u001b[0m: No module named 'scancovia'"
     ]
    }
   ],
   "source": [
    "import os\n",
    "from scancovia import AiSegment\n",
    "\n",
    "\n",
    "def save_lungs_seg(filename: str, target_filename: str):\n",
    "\n",
    "    _, header = nrrd.read(filename)\n",
    "\n",
    "    nrrd_to_nifti(filename, os.path.splitext(filename)[0] + \".nii.gz\")\n",
    "    filename = filename.replace(\".nrrd\", \".nii.gz\")\n",
    "\n",
    "    ai_segment = AiSegment()\n",
    "    output = ai_segment(filename)\n",
    "\n",
    "    nrrd.write(target_filename, output[\"lungs_mask\"].transpose(1, 0, 2), header)\n",
    "\n",
    "    os.remove(filename)\n",
    "\n",
    "    return output\n"
   ]
  },
  {
   "cell_type": "code",
   "execution_count": 8,
   "metadata": {},
   "outputs": [],
   "source": [
    "import nrrd\n",
    "\n",
    "def nrrd_get_data(filename):\n",
    "    data, _ = nrrd.read(filename)\n",
    "    return data"
   ]
  },
  {
   "cell_type": "code",
   "execution_count": 9,
   "metadata": {},
   "outputs": [],
   "source": [
    "import numpy as np\n",
    "\n",
    "def get_emboly_coverage(emboly_seg_path: str, vessels_seg_path: str, threshold=None):\n",
    "\n",
    "    ground_truth = np.where(nrrd_get_data(emboly_seg_path) > 0, 1, 0)\n",
    "\n",
    "    vessels_seg = nrrd_get_data(vessels_seg_path)\n",
    "\n",
    "    if threshold is not None:\n",
    "        vessels_seg = np.where(vessels_seg > threshold, 1, 0)\n",
    "\n",
    "    return np.sum(ground_truth * vessels_seg) / np.sum(ground_truth)\n"
   ]
  },
  {
   "cell_type": "code",
   "execution_count": 14,
   "metadata": {},
   "outputs": [],
   "source": [
    "import numpy as np\n",
    "\n",
    "def get_recall(true_seg_path: str, vessels_seg_path: str, threshold=None):\n",
    "\n",
    "    ground_truth = np.where(nrrd_get_data(true_seg_path) > 0, 1, 0)\n",
    "\n",
    "    vessels_seg = nrrd_get_data(vessels_seg_path)\n",
    "\n",
    "    if threshold is not None:\n",
    "        vessels_seg = np.where(vessels_seg > threshold, 1, 0)\n",
    "    else:\n",
    "        vessels_seg = np.where(vessels_seg > 0, 1, 0)\n",
    "\n",
    "    return np.sum(ground_truth * vessels_seg) / np.sum(ground_truth)\n"
   ]
  },
  {
   "cell_type": "code",
   "execution_count": 19,
   "metadata": {},
   "outputs": [
    {
     "name": "stdout",
     "output_type": "stream",
     "text": [
      "0.22693959640032724\n",
      "0.08963314980475266\n"
     ]
    }
   ],
   "source": [
    "threshold = 1\n",
    "\n",
    "print(get_recall(\"../data/CAD_PE/rs/0005RefStd.nrrd\", \"./data/005_frangi.nrrd\", threshold=threshold))\n",
    "print(get_recall(\"./data/005_lungs.nrrd\", \"./data/005_frangi.nrrd\", threshold=threshold))"
   ]
  },
  {
   "cell_type": "code",
   "execution_count": 17,
   "metadata": {},
   "outputs": [
    {
     "data": {
      "text/plain": [
       "0.21793437974779326"
      ]
     },
     "execution_count": 17,
     "metadata": {},
     "output_type": "execute_result"
    }
   ],
   "source": [
    "get_recall(\"./data/005_lungs.nrrd\", \"./data/005_frangi.nrrd\", threshold=0.01)"
   ]
  },
  {
   "cell_type": "code",
   "execution_count": 16,
   "metadata": {},
   "outputs": [],
   "source": [
    "save_frangi(\"../data/CAD_PE/images/005.nrrd\", \"./005_frangi.nrrd\")"
   ]
  },
  {
   "cell_type": "code",
   "execution_count": 17,
   "metadata": {},
   "outputs": [],
   "source": [
    "output = save_lungs_seg(\"../data/CAD_PE/images/005.nrrd\", \"./005_lungs.seg.nrrd\")"
   ]
  },
  {
   "cell_type": "code",
   "execution_count": 18,
   "metadata": {},
   "outputs": [],
   "source": [
    "data, header = nrrd.read(\"../data/CAD_PE/images/010.nrrd\")\n",
    "data_emb, header_emb = nrrd.read(\"../data/CAD_PE/rs/0010RefStd.nrrd\")"
   ]
  },
  {
   "cell_type": "code",
   "execution_count": 27,
   "metadata": {},
   "outputs": [],
   "source": [
    "import vtk\n",
    "\n",
    "def readnrrd(filename):\n",
    "    \"\"\"Read image in nrrd format.\"\"\"\n",
    "    reader = vtk.vtkNrrdReader()\n",
    "    reader.SetFileName(filename)\n",
    "    reader.Update()\n",
    "    info = reader.GetInformation()\n",
    "    return reader.GetOutput(), info\n",
    "\n",
    "def writenifti(image,filename, info):\n",
    "    \"\"\"Write nifti file.\"\"\"\n",
    "    writer = vtk.vtkNIFTIImageWriter()\n",
    "    writer.SetInputData(image)\n",
    "    writer.SetFileName(filename)\n",
    "    writer.SetInformation(info)\n",
    "    writer.Write()"
   ]
  },
  {
   "cell_type": "code",
   "execution_count": 31,
   "metadata": {},
   "outputs": [],
   "source": [
    "m, info = readnrrd(\"../data/CAD_PE/images/010.nrrd\")\n",
    "writenifti(m, './data/010.nii.gz', info)"
   ]
  },
  {
   "cell_type": "code",
   "execution_count": 5,
   "metadata": {},
   "outputs": [
    {
     "data": {
      "text/plain": [
       "array([[  -0.65625 ,   -0.      ,   -0.      ,   62.015625],\n",
       "       [  -0.      ,   -0.65625 ,   -0.      ,  151.421875],\n",
       "       [  -0.      ,   -0.      ,    0.5     , -101.5     ],\n",
       "       [   0.      ,    0.      ,    0.      ,    1.      ]])"
      ]
     },
     "execution_count": 5,
     "metadata": {},
     "output_type": "execute_result"
    }
   ],
   "source": [
    "nrrd_to_nifti(\"../data/CAD_PE/rs/0010RefStd.nrrd\", \"./data/0010RefStd_custom.nii.gz\")"
   ]
  },
  {
   "cell_type": "code",
   "execution_count": 30,
   "metadata": {},
   "outputs": [
    {
     "name": "stderr",
     "output_type": "stream",
     "text": [
      "\u001b[0m\u001b[33m2021-12-16 01:42:39.000 ( 144.762s) [           747A8]      vtkNrrdReader.cxx:575   WARN| vtkNrrdReader (0x110d61160): Unknown field: 'Segmentation_ConversionParameters:=Collapse labelmaps|1|Merge the labelmaps into as few shared labelmaps as possible 1 = created labelmaps will be shared if possible without overwriting each other.&Compute surface normals|1|Compute surface normals. 1 (default) = surface normals are computed. 0 = surface normals are not computed (slightly faster but produces less smooth surface display).&Crop to reference image geometry|0|Crop the model to the extent of reference geometry. 0 (default) = created labelmap will contain the entire model. 1 = created labelmap extent will be within reference image extent.&Decimation factor|0.0|Desired reduction in the total number of polygons. Range'\u001b[0m\n"
     ]
    }
   ],
   "source": [
    "m, info = readnrrd(\"../data/CAD_PE/rs/0010RefStd.nrrd\")\n",
    "writenifti(m, './data/0010RefStd.nii.gz', info)"
   ]
  },
  {
   "cell_type": "code",
   "execution_count": null,
   "metadata": {},
   "outputs": [],
   "source": [
    "m, info = readnrrd(\"../data/CAD_PE/lungs/010_lungs.seg.nrrd\")\n",
    "writenifti(m, './data/010_lungs.seg.nii.gz', info)"
   ]
  },
  {
   "cell_type": "code",
   "execution_count": 22,
   "metadata": {},
   "outputs": [
    {
     "name": "stderr",
     "output_type": "stream",
     "text": [
      "\u001b[0m\u001b[33m2021-12-16 01:40:16.143 (   1.900s) [           747A8]      vtkNrrdReader.cxx:575   WARN| vtkNrrdReader (0x1237d3200): Unknown field: 'Segmentation_ConversionParameters:=Collapse labelmaps|1|Merge the labelmaps into as few shared labelmaps as possible 1 = created labelmaps will be shared if possible without overwriting each other.&Compute surface normals|1|Compute surface normals. 1 (default) = surface normals are computed. 0 = surface normals are not computed (slightly faster but produces less smooth surface display).&Crop to reference image geometry|0|Crop the model to the extent of reference geometry. 0 (default) = created labelmap will contain the entire model. 1 = created labelmap extent will be within reference image extent.&Decimation factor|0.0|Desired reduction in the total number of polygons. Range'\u001b[0m\n"
     ]
    },
    {
     "data": {
      "text/plain": [
       "(<vtkmodules.vtkCommonDataModel.vtkImageData(0x123773c00) at 0x1605598e0>,\n",
       " <vtkmodules.vtkCommonCore.vtkInformation(0x60000273c1c0) at 0x160559880>)"
      ]
     },
     "execution_count": 22,
     "metadata": {},
     "output_type": "execute_result"
    }
   ],
   "source": [
    "import vtk \n",
    "\n",
    "reader = vtk.vtkNrrdReader()\n",
    "reader.SetFileName(\"../data/CAD_PE/rs/0010RefStd.nrrd\")\n",
    "reader.Update()\n",
    "info = reader.GetInformation()\n",
    "reader.GetOutput(), info"
   ]
  },
  {
   "cell_type": "code",
   "execution_count": 26,
   "metadata": {},
   "outputs": [
    {
     "data": {
      "text/plain": [
       "<vtkmodules.vtkCommonCore.vtkInformation(0x60000273c1c0) at 0x160559880>"
      ]
     },
     "execution_count": 26,
     "metadata": {},
     "output_type": "execute_result"
    }
   ],
   "source": [
    "info"
   ]
  },
  {
   "cell_type": "code",
   "execution_count": 19,
   "metadata": {},
   "outputs": [
    {
     "name": "stdout",
     "output_type": "stream",
     "text": [
      "(512, 512, 426)\n",
      "(186, 45, 20)\n"
     ]
    }
   ],
   "source": [
    "print(data.shape)\n",
    "print(data_emb.shape)"
   ]
  },
  {
   "cell_type": "code",
   "execution_count": 20,
   "metadata": {},
   "outputs": [
    {
     "data": {
      "text/plain": [
       "OrderedDict([('type', 'unsigned int'),\n",
       "             ('dimension', 3),\n",
       "             ('space', 'left-posterior-superior'),\n",
       "             ('sizes', array([186,  45,  20])),\n",
       "             ('space directions',\n",
       "              array([[0.65625, 0.     , 0.     ],\n",
       "                     [0.     , 0.65625, 0.     ],\n",
       "                     [0.     , 0.     , 0.5    ]])),\n",
       "             ('kinds', ['domain', 'domain', 'domain']),\n",
       "             ('endian', 'little'),\n",
       "             ('encoding', 'gzip'),\n",
       "             ('space origin', array([ -62.015625, -151.421875, -101.5     ])),\n",
       "             ('Segment0_Color', '0.901961 0.862745 0.27451'),\n",
       "             ('Segment0_ColorAutoGenerated', '1'),\n",
       "             ('Segment0_Extent', '0 185 0 44 0 19'),\n",
       "             ('Segment0_ID', 'Segment_1'),\n",
       "             ('Segment0_LabelValue', '1'),\n",
       "             ('Segment0_Layer', '0'),\n",
       "             ('Segment0_Name', 'fat'),\n",
       "             ('Segment0_NameAutoGenerated', '1'),\n",
       "             ('Segment0_Tags',\n",
       "              'TerminologyEntry:Segmentation category and type - 3D Slicer General Anatomy list~SCT^85756007^Tissue~SCT^248300009^Body fat~^^~Anatomic codes - DICOM master list~^^~^^|'),\n",
       "             ('Segment1_Color', '0.980392 0.980392 0.882353'),\n",
       "             ('Segment1_ColorAutoGenerated', '1'),\n",
       "             ('Segment1_Extent', '0 185 0 44 0 19'),\n",
       "             ('Segment1_ID', 'Segment_2'),\n",
       "             ('Segment1_LabelValue', '2'),\n",
       "             ('Segment1_Layer', '0'),\n",
       "             ('Segment1_Name', 'cerebral white matter'),\n",
       "             ('Segment1_NameAutoGenerated', '1'),\n",
       "             ('Segment1_Tags',\n",
       "              'TerminologyEntry:Segmentation category and type - 3D Slicer General Anatomy list~SCT^123037004^Anatomical Structure~SCT^68523003^Cerebral White Matter~^^~Anatomic codes - DICOM master list~^^~^^|'),\n",
       "             ('Segmentation_ContainedRepresentationNames',\n",
       "              'Binary labelmap|Closed surface|'),\n",
       "             ('Segmentation_ConversionParameters',\n",
       "              'Collapse labelmaps|1|Merge the labelmaps into as few shared labelmaps as possible 1 = created labelmaps will be shared if possible without overwriting each other.&Compute surface normals|1|Compute surface normals. 1 (default) = surface normals are computed. 0 = surface normals are not computed (slightly faster but produces less smooth surface display).&Crop to reference image geometry|0|Crop the model to the extent of reference geometry. 0 (default) = created labelmap will contain the entire model. 1 = created labelmap extent will be within reference image extent.&Decimation factor|0.0|Desired reduction in the total number of polygons. Range: 0.0 (no decimation) to 1.0 (as much simplification as possible). Value of 0.8 typically reduces data set size by 80% without losing too much details.&Fractional labelmap oversampling factor|1|Determines the oversampling of the reference image geometry. All segments are oversampled with the same value (value of 1 means no oversampling).&Joint smoothing|0|Perform joint smoothing.&Oversampling factor|1|Determines the oversampling of the reference image geometry. If it\\'s a number, then all segments are oversampled with the same value (value of 1 means no oversampling). If it has the value \"A\", then automatic oversampling is calculated.&Reference image geometry||Image geometry description string determining the geometry of the labelmap that is created in course of conversion. Can be copied from a volume, using the button.&Smoothing factor|0.5|Smoothing factor. Range: 0.0 (no smoothing) to 1.0 (strong smoothing).&Threshold fraction|0.5|Determines the threshold that the closed surface is created at as a fractional value between 0 and 1.&'),\n",
       "             ('Segmentation_MasterRepresentation', 'Binary labelmap'),\n",
       "             ('Segmentation_ReferenceImageExtentOffset', '161 264 275')])"
      ]
     },
     "execution_count": 20,
     "metadata": {},
     "output_type": "execute_result"
    }
   ],
   "source": [
    "header_emb"
   ]
  },
  {
   "cell_type": "code",
   "execution_count": 21,
   "metadata": {},
   "outputs": [
    {
     "data": {
      "text/plain": [
       "OrderedDict([('type', 'short'),\n",
       "             ('dimension', 3),\n",
       "             ('space', 'left-posterior-superior'),\n",
       "             ('sizes', array([512, 512, 426])),\n",
       "             ('space directions',\n",
       "              array([[0.65625, 0.     , 0.     ],\n",
       "                     [0.     , 0.65625, 0.     ],\n",
       "                     [0.     , 0.     , 0.5    ]])),\n",
       "             ('kinds', ['domain', 'domain', 'domain']),\n",
       "             ('endian', 'little'),\n",
       "             ('encoding', 'gzip'),\n",
       "             ('space origin', array([-167.671875, -324.671875, -239.      ]))])"
      ]
     },
     "execution_count": 21,
     "metadata": {},
     "output_type": "execute_result"
    }
   ],
   "source": [
    "header"
   ]
  },
  {
   "cell_type": "code",
   "execution_count": 60,
   "metadata": {},
   "outputs": [],
   "source": [
    "nrrd.write(\"010_lung_mask.seg.nrrd\", output[\"lungs_mask\"].transpose(1,0,2), header)"
   ]
  },
  {
   "cell_type": "code",
   "execution_count": 39,
   "metadata": {},
   "outputs": [],
   "source": [
    "img = nib.Nifti1Image(output[\"lungs_mask\"], affine)\n",
    "\n",
    "nib.save(img, \"010_lungs_mask.seg.nii\")"
   ]
  },
  {
   "cell_type": "code",
   "execution_count": 15,
   "metadata": {},
   "outputs": [],
   "source": [
    "from scancovia import AiSegment\n",
    "\n",
    "ai_segment = AiSegment() \n",
    "output = ai_segment('010.nii')"
   ]
  },
  {
   "cell_type": "code",
   "execution_count": 20,
   "metadata": {},
   "outputs": [
    {
     "data": {
      "text/plain": [
       "(512, 512, 426)"
      ]
     },
     "execution_count": 20,
     "metadata": {},
     "output_type": "execute_result"
    }
   ],
   "source": [
    "data.shape"
   ]
  },
  {
   "cell_type": "code",
   "execution_count": 30,
   "metadata": {},
   "outputs": [
    {
     "data": {
      "text/plain": [
       "2"
      ]
     },
     "execution_count": 30,
     "metadata": {},
     "output_type": "execute_result"
    }
   ],
   "source": [
    "np.max(output[\"lungs_mask\"])"
   ]
  },
  {
   "cell_type": "code",
   "execution_count": 37,
   "metadata": {},
   "outputs": [],
   "source": [
    "affine = nrrd_to_nifti(\"../data/CAD_PE/images/010.nrrd\", \"./010.nii\")"
   ]
  },
  {
   "cell_type": "code",
   "execution_count": 12,
   "metadata": {},
   "outputs": [
    {
     "name": "stdout",
     "output_type": "stream",
     "text": [
      "/Users/corentinberteaux/Documents/3A_CS/Projet CVN/cvn-pulmonary-embolism\n"
     ]
    },
    {
     "ename": "ValueError",
     "evalue": "operands could not be broadcast together with shapes (186,45,20) (512,512,426) ",
     "output_type": "error",
     "traceback": [
      "\u001b[0;31m---------------------------------------------------------------------------\u001b[0m",
      "\u001b[0;31mValueError\u001b[0m                                Traceback (most recent call last)",
      "\u001b[0;32m/var/folders/78/6hdr_rfd7rv9l_2gc4sts6600000gn/T/ipykernel_58862/399709159.py\u001b[0m in \u001b[0;36m<module>\u001b[0;34m\u001b[0m\n\u001b[1;32m      5\u001b[0m \u001b[0mpath_root\u001b[0m \u001b[0;34m=\u001b[0m \u001b[0mos\u001b[0m\u001b[0;34m.\u001b[0m\u001b[0mpath\u001b[0m\u001b[0;34m.\u001b[0m\u001b[0mdirname\u001b[0m\u001b[0;34m(\u001b[0m\u001b[0mos\u001b[0m\u001b[0;34m.\u001b[0m\u001b[0mgetcwd\u001b[0m\u001b[0;34m(\u001b[0m\u001b[0;34m)\u001b[0m\u001b[0;34m)\u001b[0m\u001b[0;34m\u001b[0m\u001b[0;34m\u001b[0m\u001b[0m\n\u001b[1;32m      6\u001b[0m \u001b[0;34m\u001b[0m\u001b[0m\n\u001b[0;32m----> 7\u001b[0;31m find_best_threshold(\n\u001b[0m\u001b[1;32m      8\u001b[0m     \u001b[0;34m[\u001b[0m\u001b[0mos\u001b[0m\u001b[0;34m.\u001b[0m\u001b[0mpath\u001b[0m\u001b[0;34m.\u001b[0m\u001b[0mjoin\u001b[0m\u001b[0;34m(\u001b[0m\u001b[0mpath_root\u001b[0m\u001b[0;34m,\u001b[0m \u001b[0;34m\"data/CAD_PE/frangi/010_frangi.nrrd\"\u001b[0m\u001b[0;34m)\u001b[0m\u001b[0;34m]\u001b[0m\u001b[0;34m,\u001b[0m\u001b[0;34m\u001b[0m\u001b[0;34m\u001b[0m\u001b[0m\n\u001b[1;32m      9\u001b[0m     \u001b[0;34m[\u001b[0m\u001b[0mos\u001b[0m\u001b[0;34m.\u001b[0m\u001b[0mpath\u001b[0m\u001b[0;34m.\u001b[0m\u001b[0mjoin\u001b[0m\u001b[0;34m(\u001b[0m\u001b[0mpath_root\u001b[0m\u001b[0;34m,\u001b[0m \u001b[0;34m\"data/CAD_PE/lungs_scancovia/010_lungs.seg.nrrd\"\u001b[0m\u001b[0;34m)\u001b[0m\u001b[0;34m]\u001b[0m\u001b[0;34m,\u001b[0m\u001b[0;34m\u001b[0m\u001b[0;34m\u001b[0m\u001b[0m\n",
      "\u001b[0;32m~/Documents/3A_CS/Projet CVN/cvn-pulmonary-embolism/src/frangi.py\u001b[0m in \u001b[0;36mfind_best_threshold\u001b[0;34m(frangi_masks, lungs_segs, embolisms_segs, thresholds)\u001b[0m\n\u001b[1;32m     58\u001b[0m         \u001b[0mcurrent_results\u001b[0m \u001b[0;34m=\u001b[0m \u001b[0;34m[\u001b[0m\u001b[0;34m]\u001b[0m\u001b[0;34m\u001b[0m\u001b[0;34m\u001b[0m\u001b[0m\n\u001b[1;32m     59\u001b[0m         \u001b[0;32mfor\u001b[0m \u001b[0mi\u001b[0m\u001b[0;34m,\u001b[0m \u001b[0mfrangi_mask\u001b[0m \u001b[0;32min\u001b[0m \u001b[0menumerate\u001b[0m\u001b[0;34m(\u001b[0m\u001b[0mfrangi_masks\u001b[0m\u001b[0;34m)\u001b[0m\u001b[0;34m:\u001b[0m\u001b[0;34m\u001b[0m\u001b[0;34m\u001b[0m\u001b[0m\n\u001b[0;32m---> 60\u001b[0;31m             evaluation = evaluate_vessels_detection(\n\u001b[0m\u001b[1;32m     61\u001b[0m                 \u001b[0mfrangi_mask\u001b[0m\u001b[0;34m,\u001b[0m \u001b[0mlungs_segs\u001b[0m\u001b[0;34m[\u001b[0m\u001b[0mi\u001b[0m\u001b[0;34m]\u001b[0m\u001b[0;34m,\u001b[0m \u001b[0membolisms_segs\u001b[0m\u001b[0;34m[\u001b[0m\u001b[0mi\u001b[0m\u001b[0;34m]\u001b[0m\u001b[0;34m,\u001b[0m \u001b[0mthreshold\u001b[0m\u001b[0;34m\u001b[0m\u001b[0;34m\u001b[0m\u001b[0m\n\u001b[1;32m     62\u001b[0m             )\n",
      "\u001b[0;32m~/Documents/3A_CS/Projet CVN/cvn-pulmonary-embolism/src/utils/evaluations.py\u001b[0m in \u001b[0;36mevaluate_vessels_detection\u001b[0;34m(vessels_seg_path, lungs_seg_path, embolisms_seg_path, threshold)\u001b[0m\n\u001b[1;32m     16\u001b[0m \u001b[0;34m\u001b[0m\u001b[0m\n\u001b[1;32m     17\u001b[0m     \u001b[0mlungs_proportion\u001b[0m \u001b[0;34m=\u001b[0m \u001b[0mnp\u001b[0m\u001b[0;34m.\u001b[0m\u001b[0msum\u001b[0m\u001b[0;34m(\u001b[0m\u001b[0mvessels\u001b[0m \u001b[0;34m*\u001b[0m \u001b[0mlungs\u001b[0m\u001b[0;34m)\u001b[0m \u001b[0;34m/\u001b[0m \u001b[0mnp\u001b[0m\u001b[0;34m.\u001b[0m\u001b[0msum\u001b[0m\u001b[0;34m(\u001b[0m\u001b[0mlungs\u001b[0m\u001b[0;34m)\u001b[0m\u001b[0;34m\u001b[0m\u001b[0;34m\u001b[0m\u001b[0m\n\u001b[0;32m---> 18\u001b[0;31m     \u001b[0membolisms_recall\u001b[0m \u001b[0;34m=\u001b[0m \u001b[0mnp\u001b[0m\u001b[0;34m.\u001b[0m\u001b[0msum\u001b[0m\u001b[0;34m(\u001b[0m\u001b[0membolisms\u001b[0m \u001b[0;34m*\u001b[0m \u001b[0mvessels\u001b[0m \u001b[0;34m*\u001b[0m \u001b[0mlungs\u001b[0m\u001b[0;34m)\u001b[0m \u001b[0;34m/\u001b[0m \u001b[0mnp\u001b[0m\u001b[0;34m.\u001b[0m\u001b[0msum\u001b[0m\u001b[0;34m(\u001b[0m\u001b[0membolisms\u001b[0m\u001b[0;34m)\u001b[0m\u001b[0;34m\u001b[0m\u001b[0;34m\u001b[0m\u001b[0m\n\u001b[0m\u001b[1;32m     19\u001b[0m \u001b[0;34m\u001b[0m\u001b[0m\n\u001b[1;32m     20\u001b[0m     return {\n",
      "\u001b[0;31mValueError\u001b[0m: operands could not be broadcast together with shapes (186,45,20) (512,512,426) "
     ]
    }
   ],
   "source": [
    "from src.frangi import find_best_threshold\n",
    "import os\n",
    "\n",
    "path_root = os.path.dirname(os.getcwd())\n",
    "\n",
    "find_best_threshold(\n",
    "    [os.path.join(path_root, \"data/CAD_PE/frangi/010_frangi.nrrd\")],\n",
    "    [os.path.join(path_root, \"data/CAD_PE/lungs_scancovia/010_lungs.seg.nrrd\")],\n",
    "    [os.path.join(path_root, \"data/CAD_PE/rs/0010RefStd.nrrd\")],\n",
    ")\n"
   ]
  },
  {
   "cell_type": "code",
   "execution_count": 19,
   "metadata": {},
   "outputs": [
    {
     "name": "stdout",
     "output_type": "stream",
     "text": [
      "OrderedDict([('type', 'double'), ('dimension', 3), ('space', 'left-posterior-superior'), ('sizes', array([512, 512, 426])), ('space directions', array([[0.65625, 0.     , 0.     ],\n",
      "       [0.     , 0.65625, 0.     ],\n",
      "       [0.     , 0.     , 0.5    ]])), ('kinds', ['domain', 'domain', 'domain']), ('endian', 'little'), ('encoding', 'gzip'), ('space origin', array([-167.671875, -324.671875, -239.      ]))])\n",
      "(512, 512, 426)\n",
      "----------------\n",
      "OrderedDict([('type', 'int64'), ('dimension', 3), ('space', 'left-posterior-superior'), ('sizes', array([512, 512, 426])), ('space directions', array([[0.65625, 0.     , 0.     ],\n",
      "       [0.     , 0.65625, 0.     ],\n",
      "       [0.     , 0.     , 0.5    ]])), ('kinds', ['domain', 'domain', 'domain']), ('endian', 'little'), ('encoding', 'gzip'), ('space origin', array([-167.671875, -324.671875, -239.      ]))])\n",
      "(512, 512, 426)\n",
      "----------------\n",
      "OrderedDict([('type', 'unsigned int'), ('dimension', 3), ('space', 'left-posterior-superior'), ('sizes', array([186,  45,  20])), ('space directions', array([[0.65625, 0.     , 0.     ],\n",
      "       [0.     , 0.65625, 0.     ],\n",
      "       [0.     , 0.     , 0.5    ]])), ('kinds', ['domain', 'domain', 'domain']), ('endian', 'little'), ('encoding', 'gzip'), ('space origin', array([ -62.015625, -151.421875, -101.5     ])), ('Segment0_Color', '0.901961 0.862745 0.27451'), ('Segment0_ColorAutoGenerated', '1'), ('Segment0_Extent', '0 185 0 44 0 19'), ('Segment0_ID', 'Segment_1'), ('Segment0_LabelValue', '1'), ('Segment0_Layer', '0'), ('Segment0_Name', 'fat'), ('Segment0_NameAutoGenerated', '1'), ('Segment0_Tags', 'TerminologyEntry:Segmentation category and type - 3D Slicer General Anatomy list~SCT^85756007^Tissue~SCT^248300009^Body fat~^^~Anatomic codes - DICOM master list~^^~^^|'), ('Segment1_Color', '0.980392 0.980392 0.882353'), ('Segment1_ColorAutoGenerated', '1'), ('Segment1_Extent', '0 185 0 44 0 19'), ('Segment1_ID', 'Segment_2'), ('Segment1_LabelValue', '2'), ('Segment1_Layer', '0'), ('Segment1_Name', 'cerebral white matter'), ('Segment1_NameAutoGenerated', '1'), ('Segment1_Tags', 'TerminologyEntry:Segmentation category and type - 3D Slicer General Anatomy list~SCT^123037004^Anatomical Structure~SCT^68523003^Cerebral White Matter~^^~Anatomic codes - DICOM master list~^^~^^|'), ('Segmentation_ContainedRepresentationNames', 'Binary labelmap|Closed surface|'), ('Segmentation_ConversionParameters', 'Collapse labelmaps|1|Merge the labelmaps into as few shared labelmaps as possible 1 = created labelmaps will be shared if possible without overwriting each other.&Compute surface normals|1|Compute surface normals. 1 (default) = surface normals are computed. 0 = surface normals are not computed (slightly faster but produces less smooth surface display).&Crop to reference image geometry|0|Crop the model to the extent of reference geometry. 0 (default) = created labelmap will contain the entire model. 1 = created labelmap extent will be within reference image extent.&Decimation factor|0.0|Desired reduction in the total number of polygons. Range: 0.0 (no decimation) to 1.0 (as much simplification as possible). Value of 0.8 typically reduces data set size by 80% without losing too much details.&Fractional labelmap oversampling factor|1|Determines the oversampling of the reference image geometry. All segments are oversampled with the same value (value of 1 means no oversampling).&Joint smoothing|0|Perform joint smoothing.&Oversampling factor|1|Determines the oversampling of the reference image geometry. If it\\'s a number, then all segments are oversampled with the same value (value of 1 means no oversampling). If it has the value \"A\", then automatic oversampling is calculated.&Reference image geometry||Image geometry description string determining the geometry of the labelmap that is created in course of conversion. Can be copied from a volume, using the button.&Smoothing factor|0.5|Smoothing factor. Range: 0.0 (no smoothing) to 1.0 (strong smoothing).&Threshold fraction|0.5|Determines the threshold that the closed surface is created at as a fractional value between 0 and 1.&'), ('Segmentation_MasterRepresentation', 'Binary labelmap'), ('Segmentation_ReferenceImageExtentOffset', '161 264 275')])\n",
      "(186, 45, 20)\n"
     ]
    },
    {
     "ename": "ValueError",
     "evalue": "cannot reshape array of size 167400 into shape (512,512,426)",
     "output_type": "error",
     "traceback": [
      "\u001b[0;31m---------------------------------------------------------------------------\u001b[0m",
      "\u001b[0;31mValueError\u001b[0m                                Traceback (most recent call last)",
      "\u001b[0;32m/var/folders/78/6hdr_rfd7rv9l_2gc4sts6600000gn/T/ipykernel_58862/1544295417.py\u001b[0m in \u001b[0;36m<module>\u001b[0;34m\u001b[0m\n\u001b[1;32m     16\u001b[0m \u001b[0mprint\u001b[0m\u001b[0;34m(\u001b[0m\u001b[0mdata\u001b[0m\u001b[0;34m.\u001b[0m\u001b[0mshape\u001b[0m\u001b[0;34m)\u001b[0m\u001b[0;34m\u001b[0m\u001b[0;34m\u001b[0m\u001b[0m\n\u001b[1;32m     17\u001b[0m \u001b[0;34m\u001b[0m\u001b[0m\n\u001b[0;32m---> 18\u001b[0;31m \u001b[0mdata2\u001b[0m \u001b[0;34m=\u001b[0m \u001b[0mdata\u001b[0m\u001b[0;34m.\u001b[0m\u001b[0mreshape\u001b[0m\u001b[0;34m(\u001b[0m\u001b[0;36m512\u001b[0m\u001b[0;34m,\u001b[0m\u001b[0;36m512\u001b[0m\u001b[0;34m,\u001b[0m\u001b[0;36m426\u001b[0m\u001b[0;34m)\u001b[0m\u001b[0;34m\u001b[0m\u001b[0;34m\u001b[0m\u001b[0m\n\u001b[0m",
      "\u001b[0;31mValueError\u001b[0m: cannot reshape array of size 167400 into shape (512,512,426)"
     ]
    }
   ],
   "source": [
    "from src.utils import nrrd_get_data\n",
    "import nrrd\n",
    "\n",
    "data, header = nrrd.read(os.path.join(path_root, \"data/CAD_PE/frangi/010_frangi.nrrd\"))\n",
    "print(header)\n",
    "print(data.shape)\n",
    "print(\"----------------\")\n",
    "\n",
    "data, header = nrrd.read(os.path.join(path_root, \"data/CAD_PE/lungs_scancovia/010_lungs.seg.nrrd\"))\n",
    "print(header)\n",
    "print(data.shape)\n",
    "print(\"----------------\")\n",
    "\n",
    "data, header = nrrd.read(os.path.join(path_root, \"data/CAD_PE/rs/0010RefStd.nrrd\"))\n",
    "print(header)\n",
    "print(data.shape)"
   ]
  },
  {
   "cell_type": "code",
   "execution_count": null,
   "metadata": {},
   "outputs": [],
   "source": []
  }
 ],
 "metadata": {
  "interpreter": {
   "hash": "db95e50100ef190cd130dcdc64a1494b4d4fda75411b0edb21fc5e698e32ecb7"
  },
  "kernelspec": {
   "display_name": "Python 3.9.1 64-bit ('venv': venv)",
   "language": "python",
   "name": "python3"
  },
  "language_info": {
   "codemirror_mode": {
    "name": "ipython",
    "version": 3
   },
   "file_extension": ".py",
   "mimetype": "text/x-python",
   "name": "python",
   "nbconvert_exporter": "python",
   "pygments_lexer": "ipython3",
   "version": "3.9.1"
  },
  "orig_nbformat": 4
 },
 "nbformat": 4,
 "nbformat_minor": 2
}
