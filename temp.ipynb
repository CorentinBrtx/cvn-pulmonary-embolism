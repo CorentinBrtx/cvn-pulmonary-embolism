{
 "cells": [
  {
   "cell_type": "code",
   "execution_count": 1,
   "metadata": {},
   "outputs": [],
   "source": [
    "import torch\n",
    "\n"
   ]
  },
  {
   "cell_type": "code",
   "execution_count": 3,
   "metadata": {},
   "outputs": [],
   "source": [
    "model = torch.load('../model_final_checkpoint.model',map_location=torch.device('cpu'))"
   ]
  },
  {
   "cell_type": "code",
   "execution_count": 11,
   "metadata": {},
   "outputs": [
    {
     "data": {
      "text/plain": [
       "odict_keys(['conv_blocks_localization.0.0.blocks.0.conv.weight', 'conv_blocks_localization.0.0.blocks.0.conv.bias', 'conv_blocks_localization.0.0.blocks.0.instnorm.weight', 'conv_blocks_localization.0.0.blocks.0.instnorm.bias', 'conv_blocks_localization.0.1.blocks.0.conv.weight', 'conv_blocks_localization.0.1.blocks.0.conv.bias', 'conv_blocks_localization.0.1.blocks.0.instnorm.weight', 'conv_blocks_localization.0.1.blocks.0.instnorm.bias', 'conv_blocks_localization.1.0.blocks.0.conv.weight', 'conv_blocks_localization.1.0.blocks.0.conv.bias', 'conv_blocks_localization.1.0.blocks.0.instnorm.weight', 'conv_blocks_localization.1.0.blocks.0.instnorm.bias', 'conv_blocks_localization.1.1.blocks.0.conv.weight', 'conv_blocks_localization.1.1.blocks.0.conv.bias', 'conv_blocks_localization.1.1.blocks.0.instnorm.weight', 'conv_blocks_localization.1.1.blocks.0.instnorm.bias', 'conv_blocks_localization.2.0.blocks.0.conv.weight', 'conv_blocks_localization.2.0.blocks.0.conv.bias', 'conv_blocks_localization.2.0.blocks.0.instnorm.weight', 'conv_blocks_localization.2.0.blocks.0.instnorm.bias', 'conv_blocks_localization.2.1.blocks.0.conv.weight', 'conv_blocks_localization.2.1.blocks.0.conv.bias', 'conv_blocks_localization.2.1.blocks.0.instnorm.weight', 'conv_blocks_localization.2.1.blocks.0.instnorm.bias', 'conv_blocks_localization.3.0.blocks.0.conv.weight', 'conv_blocks_localization.3.0.blocks.0.conv.bias', 'conv_blocks_localization.3.0.blocks.0.instnorm.weight', 'conv_blocks_localization.3.0.blocks.0.instnorm.bias', 'conv_blocks_localization.3.1.blocks.0.conv.weight', 'conv_blocks_localization.3.1.blocks.0.conv.bias', 'conv_blocks_localization.3.1.blocks.0.instnorm.weight', 'conv_blocks_localization.3.1.blocks.0.instnorm.bias', 'conv_blocks_localization.4.0.blocks.0.conv.weight', 'conv_blocks_localization.4.0.blocks.0.conv.bias', 'conv_blocks_localization.4.0.blocks.0.instnorm.weight', 'conv_blocks_localization.4.0.blocks.0.instnorm.bias', 'conv_blocks_localization.4.1.blocks.0.conv.weight', 'conv_blocks_localization.4.1.blocks.0.conv.bias', 'conv_blocks_localization.4.1.blocks.0.instnorm.weight', 'conv_blocks_localization.4.1.blocks.0.instnorm.bias', 'conv_blocks_context.0.blocks.0.conv.weight', 'conv_blocks_context.0.blocks.0.conv.bias', 'conv_blocks_context.0.blocks.0.instnorm.weight', 'conv_blocks_context.0.blocks.0.instnorm.bias', 'conv_blocks_context.0.blocks.1.conv.weight', 'conv_blocks_context.0.blocks.1.conv.bias', 'conv_blocks_context.0.blocks.1.instnorm.weight', 'conv_blocks_context.0.blocks.1.instnorm.bias', 'conv_blocks_context.1.blocks.0.conv.weight', 'conv_blocks_context.1.blocks.0.conv.bias', 'conv_blocks_context.1.blocks.0.instnorm.weight', 'conv_blocks_context.1.blocks.0.instnorm.bias', 'conv_blocks_context.1.blocks.1.conv.weight', 'conv_blocks_context.1.blocks.1.conv.bias', 'conv_blocks_context.1.blocks.1.instnorm.weight', 'conv_blocks_context.1.blocks.1.instnorm.bias', 'conv_blocks_context.2.blocks.0.conv.weight', 'conv_blocks_context.2.blocks.0.conv.bias', 'conv_blocks_context.2.blocks.0.instnorm.weight', 'conv_blocks_context.2.blocks.0.instnorm.bias', 'conv_blocks_context.2.blocks.1.conv.weight', 'conv_blocks_context.2.blocks.1.conv.bias', 'conv_blocks_context.2.blocks.1.instnorm.weight', 'conv_blocks_context.2.blocks.1.instnorm.bias', 'conv_blocks_context.3.blocks.0.conv.weight', 'conv_blocks_context.3.blocks.0.conv.bias', 'conv_blocks_context.3.blocks.0.instnorm.weight', 'conv_blocks_context.3.blocks.0.instnorm.bias', 'conv_blocks_context.3.blocks.1.conv.weight', 'conv_blocks_context.3.blocks.1.conv.bias', 'conv_blocks_context.3.blocks.1.instnorm.weight', 'conv_blocks_context.3.blocks.1.instnorm.bias', 'conv_blocks_context.4.blocks.0.conv.weight', 'conv_blocks_context.4.blocks.0.conv.bias', 'conv_blocks_context.4.blocks.0.instnorm.weight', 'conv_blocks_context.4.blocks.0.instnorm.bias', 'conv_blocks_context.4.blocks.1.conv.weight', 'conv_blocks_context.4.blocks.1.conv.bias', 'conv_blocks_context.4.blocks.1.instnorm.weight', 'conv_blocks_context.4.blocks.1.instnorm.bias', 'conv_blocks_context.5.0.blocks.0.conv.weight', 'conv_blocks_context.5.0.blocks.0.conv.bias', 'conv_blocks_context.5.0.blocks.0.instnorm.weight', 'conv_blocks_context.5.0.blocks.0.instnorm.bias', 'conv_blocks_context.5.1.blocks.0.conv.weight', 'conv_blocks_context.5.1.blocks.0.conv.bias', 'conv_blocks_context.5.1.blocks.0.instnorm.weight', 'conv_blocks_context.5.1.blocks.0.instnorm.bias', 'tu.0.weight', 'tu.1.weight', 'tu.2.weight', 'tu.3.weight', 'tu.4.weight', 'seg_outputs.0.weight', 'seg_outputs.1.weight', 'seg_outputs.2.weight', 'seg_outputs.3.weight', 'seg_outputs.4.weight'])"
      ]
     },
     "execution_count": 11,
     "metadata": {},
     "output_type": "execute_result"
    }
   ],
   "source": [
    "model['state_dict'].keys()"
   ]
  },
  {
   "cell_type": "code",
   "execution_count": null,
   "metadata": {},
   "outputs": [],
   "source": []
  }
 ],
 "metadata": {
  "interpreter": {
   "hash": "118c8fe68457d8387306adc0e37ff259965200067b645439807700a13b4f757f"
  },
  "kernelspec": {
   "display_name": "Python 3.9.10 ('cvn_env')",
   "language": "python",
   "name": "python3"
  },
  "language_info": {
   "codemirror_mode": {
    "name": "ipython",
    "version": 3
   },
   "file_extension": ".py",
   "mimetype": "text/x-python",
   "name": "python",
   "nbconvert_exporter": "python",
   "pygments_lexer": "ipython3",
   "version": "3.9.10"
  },
  "orig_nbformat": 4
 },
 "nbformat": 4,
 "nbformat_minor": 2
}
